{
 "cells": [
  {
   "metadata": {
    "ExecuteTime": {
     "end_time": "2025-07-16T22:51:01.385106Z",
     "start_time": "2025-07-16T22:51:01.380134Z"
    }
   },
   "cell_type": "code",
   "source": [
    "from langchain_neo4j import Neo4jGraph\n",
    "from dotenv import load_dotenv\n",
    "import os\n",
    "\n",
    "# env\n",
    "load_dotenv()"
   ],
   "id": "bb6e0e9f1bc22dfe",
   "outputs": [
    {
     "data": {
      "text/plain": [
       "True"
      ]
     },
     "execution_count": 3,
     "metadata": {},
     "output_type": "execute_result"
    }
   ],
   "execution_count": 3
  },
  {
   "metadata": {
    "ExecuteTime": {
     "end_time": "2025-07-16T22:51:04.448108Z",
     "start_time": "2025-07-16T22:51:02.534497Z"
    }
   },
   "cell_type": "code",
   "source": [
    "graph = Neo4jGraph(\n",
    "    url=os.getenv(\"NEO4J_URL\"),\n",
    "    username=os.getenv(\"NEO4J_USERNAME\"),\n",
    "    password=os.getenv(\"NEO4J_PASSWORD\")\n",
    ")"
   ],
   "id": "9c98f8a5c974d699",
   "outputs": [],
   "execution_count": 4
  },
  {
   "metadata": {
    "ExecuteTime": {
     "end_time": "2025-07-16T22:51:05.856153Z",
     "start_time": "2025-07-16T22:51:05.852831Z"
    }
   },
   "cell_type": "code",
   "source": [
    "def main():\n",
    "    result=graph.query(\"MATCH (n) RETURN count(n) as node_count\")\n",
    "    print(f\"Neo4j 데이터베이스 내 노드 수: {result[0] ['node_count']}\")"
   ],
   "id": "fb82f619f08fac30",
   "outputs": [],
   "execution_count": 5
  },
  {
   "metadata": {
    "ExecuteTime": {
     "end_time": "2025-07-16T22:51:07.955502Z",
     "start_time": "2025-07-16T22:51:07.766731Z"
    }
   },
   "cell_type": "code",
   "source": [
    "if __name__ == \"__main__\":\n",
    "    main()"
   ],
   "id": "1c2fa0afb28ffe62",
   "outputs": [
    {
     "name": "stdout",
     "output_type": "stream",
     "text": [
      "Neo4j 데이터베이스 내 노드 수: 0\n"
     ]
    }
   ],
   "execution_count": 6
  }
 ],
 "metadata": {
  "kernelspec": {
   "display_name": "Python 3",
   "language": "python",
   "name": "python3"
  },
  "language_info": {
   "codemirror_mode": {
    "name": "ipython",
    "version": 2
   },
   "file_extension": ".py",
   "mimetype": "text/x-python",
   "name": "python",
   "nbconvert_exporter": "python",
   "pygments_lexer": "ipython2",
   "version": "2.7.6"
  }
 },
 "nbformat": 4,
 "nbformat_minor": 5
}
